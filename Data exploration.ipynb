{
 "cells": [
  {
   "cell_type": "code",
   "execution_count": null,
   "metadata": {},
   "outputs": [],
   "source": [
    "import numpy as np\n",
    "import pandas as pd\n",
    "data = pd.read_csv(\"mnist_train.csv\")\n",
    "data_test = pd.read_csv(\"mnist_test.csv\")\n",
    "import matplotlib.pyplot as plt\n",
    "import seaborn as sns"
   ]
  },
  {
   "cell_type": "code",
   "execution_count": null,
   "metadata": {},
   "outputs": [],
   "source": [
    "data.shape"
   ]
  },
  {
   "cell_type": "code",
   "execution_count": null,
   "metadata": {},
   "outputs": [],
   "source": [
    "#create plot\n",
    "data = data.head(8000)\n",
    "sns.countplot(x = \"label\", data = data) \n",
    "# Show and save the plot\n",
    "plt.savefig('number_histogram.png')\n",
    "plt.show()"
   ]
  },
  {
   "cell_type": "code",
   "execution_count": null,
   "metadata": {},
   "outputs": [],
   "source": [
    "counts = data['label'].value_counts()\n",
    "print(counts.max(),counts.min())"
   ]
  },
  {
   "cell_type": "code",
   "execution_count": null,
   "metadata": {},
   "outputs": [],
   "source": [
    "data_np = data.to_numpy()\n",
    "#show first number without pre-processing\n",
    "attempt_not_std = data_np[0,1:]\n",
    "pixels = np.array(attempt_not_std, dtype='uint8')\n",
    "label = data_np[0]\n",
    "# Reshape the array into 28 x 28 array (2-dimensional array)\n",
    "pixels = pixels.reshape((28, 28))\n",
    "\n",
    "# Plot\n",
    "plt.imshow(pixels, cmap='binary')\n",
    "plt.savefig('first example.png')\n",
    "plt.show()"
   ]
  },
  {
   "cell_type": "code",
   "execution_count": null,
   "metadata": {},
   "outputs": [],
   "source": [
    "x, y = data_np[:,1:], data_np[:,0]\n",
    "mean_px = x.mean().astype(np.float64)\n",
    "std_px = x.std().astype(np.float64)\n",
    "x = (x - mean_px)/(std_px)\n",
    "\n",
    "\n",
    "pixels = np.array(x[7,:])\n",
    "label = y[1]\n",
    "# Reshape the array into 28 x 28 array (2-dimensional array)\n",
    "pixels = pixels.reshape((28, 28))\n",
    "\n",
    "# Plot\n",
    "plt.imshow(pixels, cmap='binary')\n",
    "plt.show()"
   ]
  },
  {
   "cell_type": "code",
   "execution_count": null,
   "metadata": {},
   "outputs": [],
   "source": [
    "#compute the mean of 'inc' for each observation\n",
    "x_mean = x.mean(axis=1)\n",
    "trial = np.vstack((x_mean, y))\n",
    "trial = np.transpose(trial)"
   ]
  },
  {
   "cell_type": "code",
   "execution_count": null,
   "metadata": {},
   "outputs": [],
   "source": [
    "#create a dataframe and compute mean and std_deviation\n",
    "trial_pd = pd.DataFrame(trial, columns = ['Mean','Label'])\n",
    "mean = trial_pd.groupby(by = \"Label\").mean()\n",
    "std_deviation = trial_pd.groupby(by = \"Label\").std()\n",
    "final = mean.merge(std_deviation, how='inner', on = 'Label')"
   ]
  },
  {
   "cell_type": "code",
   "execution_count": null,
   "metadata": {},
   "outputs": [],
   "source": [
    "#to dataframe to np.array\n",
    "final = final.to_numpy()"
   ]
  },
  {
   "cell_type": "code",
   "execution_count": null,
   "metadata": {},
   "outputs": [],
   "source": [
    "#plot and save it\n",
    "plt.scatter(final[0,0], final[0,1], c='b', label='0')\n",
    "plt.scatter(final[1,0], final[1,1], c='g', label='1')\n",
    "plt.scatter(final[2,0], final[2,1], c='r', label='2')\n",
    "plt.scatter(final[3,0], final[3,1], c='c', label='3')\n",
    "plt.scatter(final[4,0], final[4,1], c='m', label='4')\n",
    "plt.scatter(final[5,0], final[5,1], c='y', label='5')\n",
    "plt.scatter(final[6,0], final[6,1], c='k', label='6')\n",
    "plt.scatter(final[7,0], final[7,1], c='gray', label='7')\n",
    "plt.scatter(final[8,0], final[8,1], c='orange', label='8')\n",
    "plt.scatter(final[9,0], final[9,1], c='sienna', label='9')\n",
    "\n",
    "plt.xlabel(\"Mean\")\n",
    "plt.ylabel(\"Standard Deviation\")\n",
    "\n",
    "plt.legend()\n",
    "\n",
    "plt.savefig('mean and std_deviation.png')"
   ]
  },
  {
   "cell_type": "code",
   "execution_count": null,
   "metadata": {},
   "outputs": [],
   "source": []
  },
  {
   "cell_type": "code",
   "execution_count": null,
   "metadata": {},
   "outputs": [],
   "source": []
  }
 ],
 "metadata": {
  "kernelspec": {
   "display_name": "Python 3",
   "language": "python",
   "name": "python3"
  },
  "language_info": {
   "codemirror_mode": {
    "name": "ipython",
    "version": 3
   },
   "file_extension": ".py",
   "mimetype": "text/x-python",
   "name": "python",
   "nbconvert_exporter": "python",
   "pygments_lexer": "ipython3",
   "version": "3.8.3"
  }
 },
 "nbformat": 4,
 "nbformat_minor": 4
}
